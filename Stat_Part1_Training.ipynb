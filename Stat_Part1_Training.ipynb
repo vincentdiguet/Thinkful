{
 "cells": [
  {
   "cell_type": "code",
   "execution_count": 2,
   "metadata": {
    "collapsed": false,
    "deletable": true,
    "editable": true
   },
   "outputs": [
    {
     "name": "stdout",
     "output_type": "stream",
     "text": [
      "9.85714285714\n",
      "8\n",
      "10.0\n",
      "6.40816326531\n",
      "2.73426232761\n",
      "1.03345401972\n"
     ]
    }
   ],
   "source": [
    "# Calculate mode, medium, average, Standard deviation, std error, variance\n",
    "\n",
    "import pandas as pd\n",
    "import numpy as np\n",
    "\n",
    "# Vanilla Python, using the built-in statistics module.\n",
    "import statistics\n",
    "\n",
    "# Make a blank data frame.\n",
    "df = pd.DataFrame()\n",
    "\n",
    "# Populate it with data.\n",
    "df['age'] = [14,12,11,10,8,6,8]\n",
    "\n",
    "\n",
    "# Mean\n",
    "mean = np.mean(df['age'])\n",
    "#Mode\n",
    "mode = statistics.mode(df['age'])\n",
    "#Median\n",
    "median = np.median(df['age'])\n",
    "#Variance\n",
    "variance=np.var(df['age'])\n",
    "#standard deviation\n",
    "stan_dev=np.std(df['age'], ddof=1)\n",
    "#standard error         \n",
    "ste=np.std(df['age'] ,ddof=1) / np.sqrt(len(df['age']))\n",
    "\n",
    "print(mean)\n",
    "print(mode)\n",
    "print(median)\n",
    "print(variance)\n",
    "print(stan_dev)\n",
    "print(ste)\n",
    "\n",
    "#I woudl select Average and Standard deviaton\n"
   ]
  },
  {
   "cell_type": "code",
   "execution_count": 6,
   "metadata": {
    "collapsed": false,
    "deletable": true,
    "editable": true
   },
   "outputs": [
    {
     "name": "stdout",
     "output_type": "stream",
     "text": [
      "10.0\n",
      "8\n",
      "10.0\n",
      "5.42857142857\n",
      "2.51661147842\n",
      "0.951189731211\n"
     ]
    }
   ],
   "source": [
    "# Clauclate mode, medium, average, Standard deviation, std error, variance\n",
    "\n",
    "import pandas as pd\n",
    "import numpy as np\n",
    "\n",
    "# Vanilla Python, using the built-in statistics module.\n",
    "import statistics\n",
    "\n",
    "# Make a blank data frame.\n",
    "df = pd.DataFrame()\n",
    "\n",
    "# Populate it with data.\n",
    "df['age'] = [14,12,11,10,8,7,8]\n",
    "\n",
    "\n",
    "# Mean\n",
    "mean = np.mean(df['age'])\n",
    "#Mode\n",
    "mode = statistics.mode(df['age'])\n",
    "#Median\n",
    "median = np.median(df['age'])\n",
    "#Variance\n",
    "variance=np.var(df['age'])\n",
    "#standard deviation\n",
    "stan_dev=np.std(df['age'], ddof=1)\n",
    "#standard error         \n",
    "ste=np.std(df['age'] ,ddof=1) / np.sqrt(len(df['age']))\n",
    "\n",
    "print(mean)\n",
    "print(mode)\n",
    "print(median)\n",
    "print(variance)\n",
    "print(stan_dev)\n",
    "print(ste)\n",
    "\n",
    "# I would choose mean because of ...\n"
   ]
  },
  {
   "cell_type": "code",
   "execution_count": 1,
   "metadata": {
    "collapsed": false,
    "deletable": true,
    "editable": true
   },
   "outputs": [
    {
     "name": "stdout",
     "output_type": "stream",
     "text": [
      "9.0\n",
      "10.0\n",
      "15.4285714286\n",
      "4.24264068712\n",
      "1.60356745147\n"
     ]
    }
   ],
   "source": [
    "# Calculate mode, medium, average, Standard deviation, std error, variance\n",
    "\n",
    "import pandas as pd\n",
    "import numpy as np\n",
    "\n",
    "# Vanilla Python, using the built-in statistics module.\n",
    "import statistics\n",
    "\n",
    "# Make a blank data frame.\n",
    "df = pd.DataFrame()\n",
    "\n",
    "# Populate it with data.\n",
    "df['age'] = [14,12,11,10,8,7,1]\n",
    "\n",
    "\n",
    "# Mean\n",
    "mean = np.mean(df['age'])\n",
    "#Mode\n",
    "#mode = statistics.mode(df['age'])\n",
    "#Median\n",
    "median = np.median(df['age'])\n",
    "#Variance\n",
    "variance=np.var(df['age'])\n",
    "#standard deviation\n",
    "stan_dev=np.std(df['age'], ddof=1)\n",
    "#standard error         \n",
    "ste=np.std(df['age'] ,ddof=1) / np.sqrt(len(df['age']))\n",
    "\n",
    "print(mean)\n",
    "#print(mode)\n",
    "print(median)\n",
    "print(variance)\n",
    "print(stan_dev)\n",
    "print(ste)\n",
    "\n",
    "# Let's go for the median\n",
    "\n",
    "# TV Guide 20% fans Entertainment Weekly 23%\n"
   ]
  },
  {
   "cell_type": "code",
   "execution_count": null,
   "metadata": {
    "collapsed": true,
    "deletable": true,
    "editable": true
   },
   "outputs": [],
   "source": [
    "#Prob exercise\n",
    "\n",
    "1) 50% * 50% * 50% *50%\n",
    "2) 24/45\n",
    "3) 10%*0.005%\n",
    "4 ) People clicking on the link are more likely to be engaged already\n",
    "overestimation\n"
   ]
  },
  {
   "cell_type": "code",
   "execution_count": null,
   "metadata": {
    "collapsed": true,
    "deletable": true,
    "editable": true
   },
   "outputs": [],
   "source": []
  }
 ],
 "metadata": {
  "kernelspec": {
   "display_name": "Python 3",
   "language": "python",
   "name": "python3"
  },
  "language_info": {
   "codemirror_mode": {
    "name": "ipython",
    "version": 3
   },
   "file_extension": ".py",
   "mimetype": "text/x-python",
   "name": "python",
   "nbconvert_exporter": "python",
   "pygments_lexer": "ipython3",
   "version": "3.4.5"
  }
 },
 "nbformat": 4,
 "nbformat_minor": 2
}
