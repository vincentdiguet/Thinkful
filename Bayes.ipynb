{
 "cells": [
  {
   "cell_type": "code",
   "execution_count": null,
   "metadata": {
    "collapsed": true,
    "deletable": true,
    "editable": true
   },
   "outputs": [],
   "source": [
    "#Bayes exercise\n",
    "\n",
    "1) P(positive)= 0.5% * 98% + 99.5% * 10% = 10.4%\n",
    "2) P(suffer/positive)= p(positive/suffer) * p(suffer)/ p(positive)\n",
    "= 98% * 0.5% / 10.4% = 4.7%\n",
    "3) p(nonsuffe/negative)=p(negative/non suffer) * p(non suffer) / p(negative)\n",
    "= 90% * 99.5% / (1-10.4%)=99.99%\n",
    "4) \n",
    "p(non suffer/positive) + p(suffer/negative)\n",
    "= p(positive/non suffer) * p(non suffer) / p(positive)\n",
    "    10% * 99.5% / 10.4%\n",
    "+  p(negative/ suffer) * p( suffer) / p(negative)\n",
    "    2% * 0.5% / (1-10.4%)\n",
    "= 96%"
   ]
  }
 ],
 "metadata": {
  "kernelspec": {
   "display_name": "Python 3",
   "language": "python",
   "name": "python3"
  },
  "language_info": {
   "codemirror_mode": {
    "name": "ipython",
    "version": 3
   },
   "file_extension": ".py",
   "mimetype": "text/x-python",
   "name": "python",
   "nbconvert_exporter": "python",
   "pygments_lexer": "ipython3",
   "version": "3.4.5"
  }
 },
 "nbformat": 4,
 "nbformat_minor": 2
}
